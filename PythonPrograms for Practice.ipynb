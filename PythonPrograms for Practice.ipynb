{
  "cells": [
    {
      "cell_type": "markdown",
      "metadata": {
        "id": "-EuYU7m37XHe"
      },
      "source": [
        "**1. Reverse a String**"
      ]
    },
    {
      "cell_type": "code",
      "execution_count": 2,
      "metadata": {
        "colab": {
          "base_uri": "https://localhost:8080/",
          "height": 36
        },
        "id": "GR4c4Eab7JZk",
        "outputId": "360e48ef-f98b-4630-8f9a-28fb3271c2e6"
      },
      "outputs": [
        {
          "data": {
            "text/plain": [
              "'navap'"
            ]
          },
          "execution_count": 2,
          "metadata": {},
          "output_type": "execute_result"
        }
      ],
      "source": [
        "def reverse_string(s):\n",
        "    return s[::-1]\n",
        "reverse_string('pavan')"
      ]
    },
    {
      "cell_type": "markdown",
      "metadata": {
        "id": "sTVSARXs71lG"
      },
      "source": [
        "**2. Check if a Number is Prime**"
      ]
    },
    {
      "cell_type": "code",
      "execution_count": 3,
      "metadata": {
        "colab": {
          "base_uri": "https://localhost:8080/"
        },
        "id": "1VdomABK7gWK",
        "outputId": "ac831404-2c89-4abb-f556-dbf90ec90519"
      },
      "outputs": [
        {
          "data": {
            "text/plain": [
              "True"
            ]
          },
          "execution_count": 3,
          "metadata": {},
          "output_type": "execute_result"
        }
      ],
      "source": [
        "def is_prime(n):\n",
        "    if n <= 1:\n",
        "        return False\n",
        "    for i in range(2, int(n*0.5) + 1):\n",
        "        if n % i == 0:\n",
        "            return False\n",
        "    return True\n",
        "is_prime(3)"
      ]
    },
    {
      "cell_type": "code",
      "execution_count": 4,
      "metadata": {
        "colab": {
          "base_uri": "https://localhost:8080/"
        },
        "id": "jBXvRmIK82cY",
        "outputId": "5438df92-5e01-4d74-bbf4-a770f07ac43c"
      },
      "outputs": [
        {
          "data": {
            "text/plain": [
              "True"
            ]
          },
          "execution_count": 4,
          "metadata": {},
          "output_type": "execute_result"
        }
      ],
      "source": [
        "def is_prime(n):\n",
        "    if n <= 1:\n",
        "        return False\n",
        "    for i in range(2,n):\n",
        "        if n % i == 0:\n",
        "            return False\n",
        "    return True\n",
        "is_prime(3)"
      ]
    },
    {
      "cell_type": "markdown",
      "metadata": {
        "id": "rmpISbPcAypl"
      },
      "source": [
        "**3. Factorial of a Number**"
      ]
    },
    {
      "cell_type": "code",
      "execution_count": 5,
      "metadata": {
        "colab": {
          "base_uri": "https://localhost:8080/"
        },
        "id": "mepDhNqB-n1x",
        "outputId": "8ca0f40b-d995-4a7b-fc1c-7396377d1842"
      },
      "outputs": [
        {
          "data": {
            "text/plain": [
              "120"
            ]
          },
          "execution_count": 5,
          "metadata": {},
          "output_type": "execute_result"
        }
      ],
      "source": [
        "def factorial(n):\n",
        "    if n == 0:\n",
        "        return 1\n",
        "    return n * factorial(n - 1)\n",
        "factorial(5)"
      ]
    },
    {
      "cell_type": "code",
      "execution_count": 6,
      "metadata": {
        "colab": {
          "base_uri": "https://localhost:8080/"
        },
        "id": "OfEygJ3jAun4",
        "outputId": "cd8d1a79-0676-40d5-bd13-105ce11d7a1e"
      },
      "outputs": [
        {
          "data": {
            "text/plain": [
              "120"
            ]
          },
          "execution_count": 6,
          "metadata": {},
          "output_type": "execute_result"
        }
      ],
      "source": [
        "def factorial(n):\n",
        "  if n == 0:\n",
        "    return 1\n",
        "  total = 1\n",
        "  for i in range(1,n+1):\n",
        "    total = total * i\n",
        "  return total\n",
        "factorial(5)"
      ]
    },
    {
      "cell_type": "markdown",
      "metadata": {
        "id": "kx5uT4c5JoVa"
      },
      "source": [
        "**4. Fibonacci Sequence**"
      ]
    },
    {
      "cell_type": "code",
      "execution_count": 7,
      "metadata": {
        "colab": {
          "base_uri": "https://localhost:8080/"
        },
        "id": "dk2MHfyTCCmj",
        "outputId": "02bee800-d6ed-4ca7-ed41-104d80ed9389"
      },
      "outputs": [
        {
          "name": "stdout",
          "output_type": "stream",
          "text": [
            "0 1 1 2 3 "
          ]
        }
      ],
      "source": [
        "def fibonacci(n):\n",
        "    a, b = 0, 1\n",
        "    for _ in range(n):\n",
        "        print(a, end=\" \")\n",
        "        a, b = b, a + b\n",
        "fibonacci(5)"
      ]
    },
    {
      "cell_type": "code",
      "execution_count": 8,
      "metadata": {
        "colab": {
          "base_uri": "https://localhost:8080/"
        },
        "id": "DnQ8mUhMJwLj",
        "outputId": "15185bd9-4bc0-46d2-8d29-14effc14bc1f"
      },
      "outputs": [
        {
          "name": "stdout",
          "output_type": "stream",
          "text": [
            "0 1 1 2 3 "
          ]
        }
      ],
      "source": [
        "def fibonacci(n):\n",
        "  a = 0\n",
        "  b = 1\n",
        "  for i in range(n):\n",
        "    print(a,end=\" \")\n",
        "    a,b = b,a+b\n",
        "fibonacci(5)"
      ]
    },
    {
      "cell_type": "markdown",
      "metadata": {
        "id": "tCuME2KgK0Up"
      },
      "source": [
        "**5. Largest Element in a List**"
      ]
    },
    {
      "cell_type": "code",
      "execution_count": 9,
      "metadata": {
        "colab": {
          "base_uri": "https://localhost:8080/"
        },
        "id": "4K3sHqJ6KYQM",
        "outputId": "89ee8107-4a87-424f-e46a-417d0d876e1d"
      },
      "outputs": [
        {
          "data": {
            "text/plain": [
              "108"
            ]
          },
          "execution_count": 9,
          "metadata": {},
          "output_type": "execute_result"
        }
      ],
      "source": [
        "def find_largest(lst):\n",
        "    return max(lst)\n",
        "s = [80,12,13,17,108,12]\n",
        "find_largest(s)"
      ]
    },
    {
      "cell_type": "code",
      "execution_count": 10,
      "metadata": {
        "colab": {
          "base_uri": "https://localhost:8080/"
        },
        "id": "rvzIqqluoqH-",
        "outputId": "4985c264-9e61-4658-ac09-49c28e95ece9"
      },
      "outputs": [
        {
          "data": {
            "text/plain": [
              "108"
            ]
          },
          "execution_count": 10,
          "metadata": {},
          "output_type": "execute_result"
        }
      ],
      "source": [
        "def find_largest(lst):\n",
        "  max_num = lst[0]\n",
        "  for i in lst:\n",
        "    if i>max_num:\n",
        "      max_num = i\n",
        "  return max_num\n",
        "s = [80,12,13,17,108,12]\n",
        "find_largest(s)"
      ]
    },
    {
      "cell_type": "markdown",
      "metadata": {
        "id": "QdXSKs2lMOvH"
      },
      "source": [
        "**6. Check for Palindrome String**"
      ]
    },
    {
      "cell_type": "code",
      "execution_count": 57,
      "metadata": {
        "colab": {
          "base_uri": "https://localhost:8080/"
        },
        "id": "P8urzci3LFIf",
        "outputId": "85973377-6b0b-4dbb-a8e1-8aa5ca667abf"
      },
      "outputs": [
        {
          "data": {
            "text/plain": [
              "False"
            ]
          },
          "execution_count": 57,
          "metadata": {},
          "output_type": "execute_result"
        }
      ],
      "source": [
        "def is_palindrome(s):\n",
        "  s =s.lower()\n",
        "  return s == s[::-1]\n",
        "\n",
        "s = 'pavan'\n",
        "is_palindrome(s)"
      ]
    },
    {
      "cell_type": "markdown",
      "metadata": {
        "id": "O9j-JeGSMTL-"
      },
      "source": [
        "**7. Count Vowels in a String**"
      ]
    },
    {
      "cell_type": "code",
      "execution_count": 58,
      "metadata": {
        "colab": {
          "base_uri": "https://localhost:8080/"
        },
        "id": "njQt1RySLUnx",
        "outputId": "2b86bd02-97bd-487c-f9f2-e9d703588a1c"
      },
      "outputs": [
        {
          "data": {
            "text/plain": [
              "2"
            ]
          },
          "execution_count": 58,
          "metadata": {},
          "output_type": "execute_result"
        }
      ],
      "source": [
        "def count_vowels(s):\n",
        "    vowels = \"aeiouAEIOU\"\n",
        "    return sum(1 for char in s if char in vowels)\n",
        "s = \"Pavan\"\n",
        "count_vowels(s)"
      ]
    },
    {
      "cell_type": "code",
      "execution_count": 59,
      "metadata": {
        "colab": {
          "base_uri": "https://localhost:8080/"
        },
        "id": "Isv5mCcHMdpl",
        "outputId": "ebe99d99-4fdb-4c69-d69e-685252b439b0"
      },
      "outputs": [
        {
          "data": {
            "text/plain": [
              "1"
            ]
          },
          "execution_count": 59,
          "metadata": {},
          "output_type": "execute_result"
        }
      ],
      "source": [
        "def count_vowels(s):\n",
        "    vowels = \"aeiouAEIOU\"\n",
        "    total = 0\n",
        "    for i in vowels:\n",
        "      if i in s:\n",
        "        total+=1\n",
        "    return total\n",
        "s = \"Pavan\"\n",
        "count_vowels(s)"
      ]
    },
    {
      "cell_type": "markdown",
      "metadata": {
        "id": "4TlMjG2yNpGj"
      },
      "source": [
        "**8. Check if Two Strings are Anagrams**"
      ]
    },
    {
      "cell_type": "code",
      "execution_count": 60,
      "metadata": {
        "colab": {
          "base_uri": "https://localhost:8080/"
        },
        "id": "VoNyUq8tM7et",
        "outputId": "d35f79d6-d266-4acd-f174-529f2f592d18"
      },
      "outputs": [
        {
          "data": {
            "text/plain": [
              "True"
            ]
          },
          "execution_count": 60,
          "metadata": {},
          "output_type": "execute_result"
        }
      ],
      "source": [
        "def are_anagrams(str1, str2):\n",
        "  if len(str1)!=len(str2):\n",
        "    return False\n",
        "  return sorted(str1) == sorted(str2)\n",
        "str1 = 'listen'\n",
        "str2 = 'silent'\n",
        "are_anagrams(str1,str2)"
      ]
    },
    {
      "cell_type": "code",
      "execution_count": 61,
      "metadata": {
        "colab": {
          "base_uri": "https://localhost:8080/"
        },
        "id": "eB1qBacfU9Bl",
        "outputId": "cfa73640-5b22-492e-dfb3-3721a0bc51dc"
      },
      "outputs": [
        {
          "data": {
            "text/plain": [
              "False"
            ]
          },
          "execution_count": 61,
          "metadata": {},
          "output_type": "execute_result"
        }
      ],
      "source": [
        "str1 = 'hello'\n",
        "str2 = 'world'\n",
        "are_anagrams(str1,str2)"
      ]
    },
    {
      "cell_type": "markdown",
      "metadata": {
        "id": "4Im9-eLJsuUr"
      },
      "source": [
        "**9. Second Largest Element in a List**"
      ]
    },
    {
      "cell_type": "code",
      "execution_count": 62,
      "metadata": {
        "colab": {
          "base_uri": "https://localhost:8080/"
        },
        "id": "0ems1oXMVblP",
        "outputId": "24cfe590-2c45-49a3-83ac-c2844782fe3e"
      },
      "outputs": [
        {
          "name": "stdout",
          "output_type": "stream",
          "text": [
            "<function second_largest at 0x0000017316717920>\n"
          ]
        }
      ],
      "source": [
        "def second_largest(lst):\n",
        "    first, second = float('-inf'), float('-inf')\n",
        "    for num in lst:\n",
        "        if num > first:\n",
        "            second = first\n",
        "            first = num\n",
        "        elif first > num > second:\n",
        "            second = num\n",
        "    return second_largest\n",
        "lst = [5,10,89,24,75,100]\n",
        "print(second_largest(lst))"
      ]
    },
    {
      "cell_type": "code",
      "execution_count": 63,
      "metadata": {
        "colab": {
          "base_uri": "https://localhost:8080/"
        },
        "id": "bgW3FYaItBE7",
        "outputId": "fcf12323-bd49-4056-9ff8-ac1366a8113a"
      },
      "outputs": [
        {
          "name": "stdout",
          "output_type": "stream",
          "text": [
            "89\n"
          ]
        }
      ],
      "source": [
        "def second_largest(lst):\n",
        "  sorted_list = sorted(lst)\n",
        "  return sorted_list[-2]\n",
        "lst = [5,10,89,24,75,100]\n",
        "print(second_largest(lst))"
      ]
    },
    {
      "cell_type": "markdown",
      "metadata": {
        "id": "b0t-L1VJtwvo"
      },
      "source": [
        "**10. Remove Duplicates from a List**"
      ]
    },
    {
      "cell_type": "code",
      "execution_count": 64,
      "metadata": {
        "colab": {
          "base_uri": "https://localhost:8080/"
        },
        "id": "-UHsBrwwtmfX",
        "outputId": "660d01c9-6b10-4bc5-982d-619a27c6bde1"
      },
      "outputs": [
        {
          "name": "stdout",
          "output_type": "stream",
          "text": [
            "[5, 10, 24, 75, 89, 100]\n"
          ]
        }
      ],
      "source": [
        "def remove_duplicates(lst):\n",
        "    return list(set(lst))\n",
        "lst = [5,10,89,5,24,75,5,100]\n",
        "print(sorted(remove_duplicates(lst)))"
      ]
    },
    {
      "cell_type": "markdown",
      "metadata": {
        "id": "yy80nXAAuaDE"
      },
      "source": [
        "**11. Sum of Digits of a Number**"
      ]
    },
    {
      "cell_type": "code",
      "execution_count": 65,
      "metadata": {
        "colab": {
          "base_uri": "https://localhost:8080/"
        },
        "id": "kTD4cYJXt9-S",
        "outputId": "ba9db56b-c04f-497d-8baf-f7b45cf34c4e"
      },
      "outputs": [
        {
          "data": {
            "text/plain": [
              "6"
            ]
          },
          "execution_count": 65,
          "metadata": {},
          "output_type": "execute_result"
        }
      ],
      "source": [
        "def sum_of_digits(n):\n",
        "    return sum(int(digit) for digit in str(n))\n",
        "sum_of_digits('123')"
      ]
    },
    {
      "cell_type": "code",
      "execution_count": 66,
      "metadata": {
        "colab": {
          "base_uri": "https://localhost:8080/"
        },
        "id": "IWq4Y_hGupr2",
        "outputId": "36494f0c-7456-4ea2-a962-21d79be82183"
      },
      "outputs": [
        {
          "data": {
            "text/plain": [
              "6"
            ]
          },
          "execution_count": 66,
          "metadata": {},
          "output_type": "execute_result"
        }
      ],
      "source": [
        "def sum_of_digits(n):\n",
        "  total = 0\n",
        "  for i in n: #for i in range(len(n)+1):\n",
        "    total += int(i)\n",
        "  return total\n",
        "sum_of_digits('123')"
      ]
    },
    {
      "cell_type": "markdown",
      "metadata": {
        "id": "gej44gTqvLpx"
      },
      "source": [
        "**12. Merge Two Sorted Lists**"
      ]
    },
    {
      "cell_type": "code",
      "execution_count": 67,
      "metadata": {
        "colab": {
          "base_uri": "https://localhost:8080/"
        },
        "id": "6dfl8Glgu_N9",
        "outputId": "0c4de6ac-76c6-4f58-efcb-4509fb9e4d04"
      },
      "outputs": [
        {
          "data": {
            "text/plain": [
              "[2, 3, 4, 5, 10, 12, 15, 20, 30, 40]"
            ]
          },
          "execution_count": 67,
          "metadata": {},
          "output_type": "execute_result"
        }
      ],
      "source": [
        "def merge_sorted_lists(lst1, lst2):\n",
        "    return sorted(lst1 + lst2)\n",
        "lst1 = [3,10,4,5,20]\n",
        "lst2 = [12,30,15,40,2]\n",
        "merge_sorted_lists(lst1, lst2)"
      ]
    },
    {
      "cell_type": "markdown",
      "metadata": {
        "id": "MwMrPm2Av572"
      },
      "source": [
        "**13. Check for Armstrong Number**"
      ]
    },
    {
      "cell_type": "code",
      "execution_count": 68,
      "metadata": {
        "colab": {
          "base_uri": "https://localhost:8080/"
        },
        "id": "ySQtg3SNv0jj",
        "outputId": "73feb2d3-169c-48df-dac6-37dd865002e4"
      },
      "outputs": [
        {
          "data": {
            "text/plain": [
              "True"
            ]
          },
          "execution_count": 68,
          "metadata": {},
          "output_type": "execute_result"
        }
      ],
      "source": [
        "def is_armstrong(n):\n",
        "    num_str = str(n)\n",
        "    num_len = len(num_str)\n",
        "    return int(n) == sum(int(digit)**num_len for digit in num_str)\n",
        "is_armstrong('407')"
      ]
    },
    {
      "cell_type": "code",
      "execution_count": 69,
      "metadata": {
        "colab": {
          "base_uri": "https://localhost:8080/"
        },
        "id": "3aT-v76pwLIK",
        "outputId": "187d6a9d-69d1-4ce1-d125-6699a56743bf"
      },
      "outputs": [
        {
          "data": {
            "text/plain": [
              "True"
            ]
          },
          "execution_count": 69,
          "metadata": {},
          "output_type": "execute_result"
        }
      ],
      "source": [
        "def is_armstrong(n):\n",
        "  total = 0\n",
        "  for i in n:\n",
        "    total += int(i)**len(n)\n",
        "  return int(n)==total\n",
        "is_armstrong('407')"
      ]
    },
    {
      "cell_type": "markdown",
      "metadata": {
        "id": "ZN0wh1s5xp_T"
      },
      "source": [
        "**14. Find Intersection of Two Lists**"
      ]
    },
    {
      "cell_type": "code",
      "execution_count": 70,
      "metadata": {
        "colab": {
          "base_uri": "https://localhost:8080/"
        },
        "id": "rXcOhLCbxVpD",
        "outputId": "93b05dce-1f91-4376-f9a4-7790c2671b92"
      },
      "outputs": [
        {
          "data": {
            "text/plain": [
              "[2, 3]"
            ]
          },
          "execution_count": 70,
          "metadata": {},
          "output_type": "execute_result"
        }
      ],
      "source": [
        "def list_intersection(lst1, lst2):\n",
        "    return list(set(lst1) & set(lst2))\n",
        "lst1 = [1,2,3,4,5]\n",
        "lst2 = [2,3,6,7,8]\n",
        "list_intersection(lst1, lst2)"
      ]
    },
    {
      "cell_type": "code",
      "execution_count": 71,
      "metadata": {
        "colab": {
          "base_uri": "https://localhost:8080/"
        },
        "id": "CbEj7hJHx3AB",
        "outputId": "8fb68705-1bf4-4b11-bc97-ba82f5dc69d4"
      },
      "outputs": [
        {
          "data": {
            "text/plain": [
              "[2, 3]"
            ]
          },
          "execution_count": 71,
          "metadata": {},
          "output_type": "execute_result"
        }
      ],
      "source": [
        "def list_intersection(lst1, lst2):\n",
        "  intersection = set(lst1)&(set(lst2))\n",
        "  # intersection = set(lst1).intersection(set(lst2))\n",
        "  return list(intersection)\n",
        "lst1 = [1,2,3,4,5]\n",
        "lst2 = [2,3,6,7,8]\n",
        "list_intersection(lst1, lst2)"
      ]
    },
    {
      "cell_type": "markdown",
      "metadata": {
        "id": "e5qDae15ypa0"
      },
      "source": [
        "**15. GCD of Two Numbers**"
      ]
    },
    {
      "cell_type": "code",
      "execution_count": 72,
      "metadata": {
        "colab": {
          "base_uri": "https://localhost:8080/"
        },
        "id": "W0_nGwG2yM9M",
        "outputId": "2a89836b-76f2-4e78-c0fb-7fea29e08cfe"
      },
      "outputs": [
        {
          "data": {
            "text/plain": [
              "6"
            ]
          },
          "execution_count": 72,
          "metadata": {},
          "output_type": "execute_result"
        }
      ],
      "source": [
        "import math\n",
        "def gcd(a, b):\n",
        "    return math.gcd(a, b)\n",
        "gcd(48,18)"
      ]
    },
    {
      "cell_type": "code",
      "execution_count": 73,
      "metadata": {
        "colab": {
          "base_uri": "https://localhost:8080/"
        },
        "id": "KJSZ84zUywZp",
        "outputId": "73108717-02c8-4b8c-c19d-3920f07ae517"
      },
      "outputs": [
        {
          "data": {
            "text/plain": [
              "6"
            ]
          },
          "execution_count": 73,
          "metadata": {},
          "output_type": "execute_result"
        }
      ],
      "source": [
        "def gcd(a,b):\n",
        "  if a<b:\n",
        "    raise \"ValueError\"\n",
        "  if a>=b:\n",
        "    while b!=0:\n",
        "      a,b = b,a%b\n",
        "  return a\n",
        "gcd(48,18)"
      ]
    },
    {
      "cell_type": "markdown",
      "metadata": {
        "id": "-8RmZtqA3LB-"
      },
      "source": [
        "**16. Find the Length of a List**"
      ]
    },
    {
      "cell_type": "code",
      "execution_count": 74,
      "metadata": {
        "colab": {
          "base_uri": "https://localhost:8080/"
        },
        "id": "Dut32EPI0TVv",
        "outputId": "8a42b2b6-8a03-4e93-98f6-5b456b86e417"
      },
      "outputs": [
        {
          "data": {
            "text/plain": [
              "5"
            ]
          },
          "execution_count": 74,
          "metadata": {},
          "output_type": "execute_result"
        }
      ],
      "source": [
        "def list_length(lst):\n",
        "    return len(lst)\n",
        "lst = [1,2,3,4,5]\n",
        "list_length(lst)"
      ]
    },
    {
      "cell_type": "markdown",
      "metadata": {
        "id": "zGGGwfRi3dbi"
      },
      "source": [
        "**17. Binary Search**"
      ]
    },
    {
      "cell_type": "code",
      "execution_count": 75,
      "metadata": {
        "colab": {
          "base_uri": "https://localhost:8080/"
        },
        "id": "aoAAy5j43T9o",
        "outputId": "715e631f-e1d7-413f-e381-9ecece103d15"
      },
      "outputs": [
        {
          "data": {
            "text/plain": [
              "6"
            ]
          },
          "execution_count": 75,
          "metadata": {},
          "output_type": "execute_result"
        }
      ],
      "source": [
        "def binary_search(lst, target):\n",
        "    low, high = 0, len(lst) - 1\n",
        "    while low <= high:\n",
        "        mid = (low + high) // 2\n",
        "        if lst[mid] == target:\n",
        "            return mid\n",
        "        elif lst[mid] < target:\n",
        "            low = mid + 1\n",
        "        else:\n",
        "            high = mid - 1\n",
        "    return -1\n",
        "lst = [2, 5, 8, 12, 16, 23, 38, 56, 72, 91]\n",
        "target = 38\n",
        "binary_search(lst,target)"
      ]
    },
    {
      "cell_type": "code",
      "execution_count": 76,
      "metadata": {
        "colab": {
          "base_uri": "https://localhost:8080/"
        },
        "id": "rakWRqx86GI2",
        "outputId": "5d54b95a-4a72-4c3b-b624-bb7db1f19b1d"
      },
      "outputs": [
        {
          "data": {
            "text/plain": [
              "[5, 6]"
            ]
          },
          "execution_count": 76,
          "metadata": {},
          "output_type": "execute_result"
        }
      ],
      "source": [
        "def binary_search(lst, target):\n",
        "  lst = sorted(lst)\n",
        "  index_list = []\n",
        "  for index,iterator in enumerate(lst):\n",
        "    if iterator==target:\n",
        "      index_list.append(index)\n",
        "  return  index_list\n",
        "lst = [2, 5, 8, 12, 16, 23, 23, 38, 56, 72, 91]\n",
        "target = 23\n",
        "binary_search(lst,target)"
      ]
    },
    {
      "cell_type": "markdown",
      "metadata": {
        "id": "jTXlC3rF-cgA"
      },
      "source": [
        "**22. Find Missing Number in a List**"
      ]
    },
    {
      "cell_type": "code",
      "execution_count": 77,
      "metadata": {
        "colab": {
          "base_uri": "https://localhost:8080/"
        },
        "id": "XINLwQIO6kHv",
        "outputId": "6618eec5-1e15-4da4-d792-2ba8ae7ab91d"
      },
      "outputs": [
        {
          "data": {
            "text/plain": [
              "9"
            ]
          },
          "execution_count": 77,
          "metadata": {},
          "output_type": "execute_result"
        }
      ],
      "source": [
        "def find_missing(lst, n):\n",
        "    return n * (n + 1) // 2 - sum(lst)\n",
        "lst = [1,2,3,4,5,6,7,8,10]\n",
        "n = max(lst)\n",
        "find_missing(lst, n)"
      ]
    },
    {
      "cell_type": "markdown",
      "metadata": {
        "id": "EH-ST874LV2z"
      },
      "source": [
        "**23. Find Duplicates in a List**"
      ]
    },
    {
      "cell_type": "code",
      "execution_count": 78,
      "metadata": {
        "colab": {
          "base_uri": "https://localhost:8080/"
        },
        "id": "-PE5NyTM-AYO",
        "outputId": "ce5eb859-20ee-42fb-a403-8f7f7f7df39e"
      },
      "outputs": [
        {
          "data": {
            "text/plain": [
              "[1, 2]"
            ]
          },
          "execution_count": 78,
          "metadata": {},
          "output_type": "execute_result"
        }
      ],
      "source": [
        "def find_duplicates(lst):\n",
        "    return list(set([x for x in lst if lst.count(x) > 1]))\n",
        "lst = [1,2,1,3,4,2,5]\n",
        "find_duplicates(lst)"
      ]
    },
    {
      "cell_type": "code",
      "execution_count": 79,
      "metadata": {
        "colab": {
          "base_uri": "https://localhost:8080/"
        },
        "id": "hFkQU1GkLilO",
        "outputId": "235888c9-2a47-44d7-e8bd-3c5d2933f613"
      },
      "outputs": [
        {
          "data": {
            "text/plain": [
              "[1, 2]"
            ]
          },
          "execution_count": 79,
          "metadata": {},
          "output_type": "execute_result"
        }
      ],
      "source": [
        "def find_duplicates(lst):\n",
        "  duplicates = []\n",
        "  for i in lst:\n",
        "    if lst.count(i)>1:\n",
        "      duplicates.append(i)\n",
        "  return list(set(duplicates))\n",
        "lst = [1,2,1,3,4,2,5]\n",
        "find_duplicates(lst)"
      ]
    },
    {
      "cell_type": "markdown",
      "metadata": {
        "id": "iHnWBTPrO3sM"
      },
      "source": [
        "**24. Check if a List is Sorted**"
      ]
    },
    {
      "cell_type": "code",
      "execution_count": 80,
      "metadata": {
        "colab": {
          "base_uri": "https://localhost:8080/"
        },
        "id": "yriqgOi3MCiE",
        "outputId": "3a833905-d936-488b-f050-ecf8c408636b"
      },
      "outputs": [
        {
          "data": {
            "text/plain": [
              "False"
            ]
          },
          "execution_count": 80,
          "metadata": {},
          "output_type": "execute_result"
        }
      ],
      "source": [
        "def is_sorted(lst):\n",
        "    return lst == sorted(lst)\n",
        "lst = [12,30,15,40,2]\n",
        "is_sorted(lst)"
      ]
    },
    {
      "cell_type": "code",
      "execution_count": 81,
      "metadata": {
        "colab": {
          "base_uri": "https://localhost:8080/"
        },
        "id": "nW2CYmdnPHJW",
        "outputId": "aa3ccaeb-5074-4d7e-b0d2-c239c27d2742"
      },
      "outputs": [
        {
          "data": {
            "text/plain": [
              "True"
            ]
          },
          "execution_count": 81,
          "metadata": {},
          "output_type": "execute_result"
        }
      ],
      "source": [
        "lst = [1,2,3,4,5]\n",
        "is_sorted(lst)"
      ]
    },
    {
      "cell_type": "markdown",
      "metadata": {
        "id": "SV_WoKpsPU3q"
      },
      "source": [
        "**25. Rotate a List by n Positions**"
      ]
    },
    {
      "cell_type": "code",
      "execution_count": 82,
      "metadata": {
        "colab": {
          "base_uri": "https://localhost:8080/"
        },
        "id": "G6rc7E5xPSAx",
        "outputId": "622744f6-0c65-48c6-987d-1bcff1853050"
      },
      "outputs": [
        {
          "data": {
            "text/plain": [
              "[4, 5, 1, 2, 3]"
            ]
          },
          "execution_count": 82,
          "metadata": {},
          "output_type": "execute_result"
        }
      ],
      "source": [
        "def rotate_list(lst, n):\n",
        "    return lst[n:] + lst[:n]\n",
        "lst = [1,2,3,4,5]\n",
        "n = 3\n",
        "rotate_list(lst, n)"
      ]
    },
    {
      "cell_type": "markdown",
      "metadata": {
        "id": "wA6SapaqPwMV"
      },
      "source": [
        "**26. Find All Subsets of a Set**"
      ]
    },
    {
      "cell_type": "code",
      "execution_count": 83,
      "metadata": {
        "colab": {
          "base_uri": "https://localhost:8080/"
        },
        "id": "Rz8uplYrPvti",
        "outputId": "55303028-e208-43e9-fc90-43592fa8151e"
      },
      "outputs": [
        {
          "data": {
            "text/plain": [
              "[[], [1], [2], [1, 2]]"
            ]
          },
          "execution_count": 83,
          "metadata": {},
          "output_type": "execute_result"
        }
      ],
      "source": [
        "def subsets(lst):\n",
        "    result = [[]]\n",
        "    for num in lst:\n",
        "        result += [item + [num] for item in result]\n",
        "    return result\n",
        "lst = {1,2}\n",
        "subsets(lst)"
      ]
    },
    {
      "cell_type": "markdown",
      "metadata": {
        "id": "BIgS5Pg31UT2"
      },
      "source": [
        "**27. Find Duplicates Using a Set**"
      ]
    },
    {
      "cell_type": "code",
      "execution_count": 84,
      "metadata": {
        "colab": {
          "base_uri": "https://localhost:8080/"
        },
        "id": "YWItLSDOPhu5",
        "outputId": "fcc3f1e1-0c6f-4978-cd72-a58469690d9b"
      },
      "outputs": [
        {
          "data": {
            "text/plain": [
              "[1, 2, 3]"
            ]
          },
          "execution_count": 84,
          "metadata": {},
          "output_type": "execute_result"
        }
      ],
      "source": [
        "def find_duplicates_set(lst):\n",
        "    seen = set()\n",
        "    duplicates = set()\n",
        "    for num in lst:\n",
        "        if num in seen:\n",
        "            duplicates.add(num)\n",
        "        else:\n",
        "            seen.add(num)\n",
        "    return list(duplicates)\n",
        "\n",
        "lst = [3,1,2,3,1,2,5,6]\n",
        "find_duplicates_set(lst)"
      ]
    },
    {
      "cell_type": "markdown",
      "metadata": {
        "id": "DE2OlFk-2t38"
      },
      "source": [
        "**28. Sum of n Natural Numbers**"
      ]
    },
    {
      "cell_type": "code",
      "execution_count": 85,
      "metadata": {
        "colab": {
          "base_uri": "https://localhost:8080/"
        },
        "id": "0hnf87ld1flS",
        "outputId": "4a36ffc0-4858-4c54-e4fe-600ace5fb91e"
      },
      "outputs": [
        {
          "data": {
            "text/plain": [
              "55"
            ]
          },
          "execution_count": 85,
          "metadata": {},
          "output_type": "execute_result"
        }
      ],
      "source": [
        "def sum_of_n_numbers(n):\n",
        "    return n * (n + 1) // 2\n",
        "sum_of_n_numbers(10)"
      ]
    },
    {
      "cell_type": "code",
      "execution_count": 86,
      "metadata": {
        "colab": {
          "base_uri": "https://localhost:8080/"
        },
        "id": "Ck-itDYu27pS",
        "outputId": "90c303ad-e2c9-4911-e4cc-50fbc48d2fc6"
      },
      "outputs": [
        {
          "name": "stdout",
          "output_type": "stream",
          "text": [
            "55\n"
          ]
        }
      ],
      "source": [
        "def sum_of_natural_numbers(n):\n",
        "    total = 0\n",
        "    for i in range(1, n + 1):\n",
        "        total += i\n",
        "    return total\n",
        "n = 10\n",
        "print(sum_of_natural_numbers(n))"
      ]
    },
    {
      "cell_type": "markdown",
      "metadata": {
        "id": "jqDx_BdB8xNi"
      },
      "source": [
        "**29. Check if a Number is Even or Odd**"
      ]
    },
    {
      "cell_type": "code",
      "execution_count": 87,
      "metadata": {
        "colab": {
          "base_uri": "https://localhost:8080/",
          "height": 36
        },
        "id": "lCgBatbM4VhN",
        "outputId": "10c7428d-411c-4f7a-ed84-e749eed19147"
      },
      "outputs": [
        {
          "data": {
            "text/plain": [
              "'Even'"
            ]
          },
          "execution_count": 87,
          "metadata": {},
          "output_type": "execute_result"
        }
      ],
      "source": [
        "def is_even_odd(n):\n",
        "    return \"Even\" if n % 2 == 0 else \"Odd\"\n",
        "is_even_odd(2)"
      ]
    },
    {
      "cell_type": "markdown",
      "metadata": {
        "id": "_A0v4HAU87AG"
      },
      "source": [
        "**30. Find Minimum Element in a List**"
      ]
    },
    {
      "cell_type": "code",
      "execution_count": 88,
      "metadata": {
        "colab": {
          "base_uri": "https://localhost:8080/"
        },
        "id": "XP3AXHUT86L9",
        "outputId": "91536c75-f85a-471f-867d-fc47edaa858e"
      },
      "outputs": [
        {
          "data": {
            "text/plain": [
              "1"
            ]
          },
          "execution_count": 88,
          "metadata": {},
          "output_type": "execute_result"
        }
      ],
      "source": [
        "def find_minimum(lst):\n",
        "    return min(lst)\n",
        "lst = [34,1,108,67,69,56]\n",
        "find_minimum(lst)"
      ]
    },
    {
      "cell_type": "code",
      "execution_count": 89,
      "metadata": {
        "colab": {
          "base_uri": "https://localhost:8080/"
        },
        "id": "xNfkRMF-83Sd",
        "outputId": "e63b76d2-0d09-4b54-9ebd-76bde3f7b472"
      },
      "outputs": [
        {
          "data": {
            "text/plain": [
              "1"
            ]
          },
          "execution_count": 89,
          "metadata": {},
          "output_type": "execute_result"
        }
      ],
      "source": [
        "def find_minimum(lst):\n",
        "  lst = sorted(lst)\n",
        "  return lst[0]\n",
        "lst = [34,1,108,67,69,56]\n",
        "find_minimum(lst)"
      ]
    },
    {
      "cell_type": "code",
      "execution_count": 90,
      "metadata": {
        "colab": {
          "base_uri": "https://localhost:8080/"
        },
        "id": "MXoBgnJ0EiMN",
        "outputId": "17c80b0b-d3b8-4ef4-e24d-7d35823232b0"
      },
      "outputs": [
        {
          "name": "stdout",
          "output_type": "stream",
          "text": [
            "-1\n"
          ]
        }
      ],
      "source": [
        "def find_min(lst):\n",
        "    if len(lst) == 0:\n",
        "        return None\n",
        "\n",
        "    min_element = lst[0]\n",
        "    for num in lst:\n",
        "        if num < min_element:\n",
        "            min_element = num\n",
        "    return min_element\n",
        "\n",
        "\n",
        "lst = [3, 5, 7, 2, 8, -1, 4, 10, 12]\n",
        "print(find_min(lst))\n"
      ]
    },
    {
      "cell_type": "markdown",
      "metadata": {
        "id": "yJz29wxc994C"
      },
      "source": [
        "**31. Find Maximum Element in a List**"
      ]
    },
    {
      "cell_type": "code",
      "execution_count": 91,
      "metadata": {
        "colab": {
          "base_uri": "https://localhost:8080/"
        },
        "id": "iqPQAdrb9wHO",
        "outputId": "478c9cfc-c8e0-48ae-abc3-97fef28ea6ec"
      },
      "outputs": [
        {
          "data": {
            "text/plain": [
              "108"
            ]
          },
          "execution_count": 91,
          "metadata": {},
          "output_type": "execute_result"
        }
      ],
      "source": [
        "def find_maximum(lst):\n",
        "    return max(lst)\n",
        "lst = [34,1,108,67,69,56]\n",
        "find_maximum(lst)"
      ]
    },
    {
      "cell_type": "code",
      "execution_count": 92,
      "metadata": {
        "colab": {
          "base_uri": "https://localhost:8080/"
        },
        "id": "k1_WhKhw-DTT",
        "outputId": "1051d576-3782-444f-87a1-07da7dd6ba78"
      },
      "outputs": [
        {
          "data": {
            "text/plain": [
              "108"
            ]
          },
          "execution_count": 92,
          "metadata": {},
          "output_type": "execute_result"
        }
      ],
      "source": [
        "def find_maximum(lst):\n",
        "  lst = sorted(lst)\n",
        "  return lst[-1]\n",
        "lst = [34,1,108,67,69,56]\n",
        "find_maximum(lst)"
      ]
    },
    {
      "cell_type": "code",
      "execution_count": 93,
      "metadata": {
        "colab": {
          "base_uri": "https://localhost:8080/"
        },
        "id": "TqPAL_YtEaru",
        "outputId": "05638766-2c2e-478f-f9ac-b1dc459bbb51"
      },
      "outputs": [
        {
          "name": "stdout",
          "output_type": "stream",
          "text": [
            "12\n"
          ]
        }
      ],
      "source": [
        "def find_max(lst):\n",
        "    if len(lst) == 0:\n",
        "        return None  # If the list is empty, return None\n",
        "\n",
        "    max_element = lst[0]  # Assume the first element is the largest initially\n",
        "    for num in lst:\n",
        "        if num > max_element:\n",
        "            max_element = num  # Update max_element if a larger number is found\n",
        "    return max_element\n",
        "\n",
        "\n",
        "lst = [3, 5, 7, 2, 8, -1, 4, 10, 12]\n",
        "print(find_max(lst))  \n"
      ]
    },
    {
      "cell_type": "markdown",
      "metadata": {
        "id": "-aPjMOWMAPG7"
      },
      "source": [
        "**33. Convert Decimal to Binary**"
      ]
    },
    {
      "cell_type": "code",
      "execution_count": 94,
      "metadata": {
        "colab": {
          "base_uri": "https://localhost:8080/",
          "height": 36
        },
        "id": "R2ssy2n5AHkQ",
        "outputId": "09c2d853-6619-4a5b-d889-5a7a36f5dd9d"
      },
      "outputs": [
        {
          "data": {
            "text/plain": [
              "'111'"
            ]
          },
          "execution_count": 94,
          "metadata": {},
          "output_type": "execute_result"
        }
      ],
      "source": [
        "def decimal_to_binary(n):\n",
        "    return bin(n).replace(\"0b\", \"\")\n",
        "decimal_to_binary(7)"
      ]
    },
    {
      "cell_type": "code",
      "execution_count": 95,
      "metadata": {
        "colab": {
          "base_uri": "https://localhost:8080/"
        },
        "id": "gRHzJLbJDHJv",
        "outputId": "b9c10b42-f5ff-4fc1-c63d-8e9e94f17dd8"
      },
      "outputs": [
        {
          "name": "stdout",
          "output_type": "stream",
          "text": [
            "100\n"
          ]
        }
      ],
      "source": [
        "def decimal_to_binary(n):\n",
        "    binary_num = []\n",
        "    while n > 0:\n",
        "        remainder = n % 2\n",
        "        binary_num.append(str(remainder))  # Store remainder as string\n",
        "        n = n // 2  # Update n to be the quotient of division by 2\n",
        "    binary_num.reverse()  # Reverse the list to get the correct binary form\n",
        "    return ''.join(binary_num)  # Join the list into a string\n",
        "\n",
        "n = 4\n",
        "print(decimal_to_binary(n)) "
      ]
    },
    {
      "cell_type": "markdown",
      "metadata": {
        "id": "TZmc_-IRAp7H"
      },
      "source": [
        "**34. Convert Binary to Decimal**"
      ]
    },
    {
      "cell_type": "code",
      "execution_count": 96,
      "metadata": {
        "colab": {
          "base_uri": "https://localhost:8080/"
        },
        "id": "tMs4NBs3AWE3",
        "outputId": "9bf23aaf-4451-4952-9b0f-2a1f48156966"
      },
      "outputs": [
        {
          "data": {
            "text/plain": [
              "7"
            ]
          },
          "execution_count": 96,
          "metadata": {},
          "output_type": "execute_result"
        }
      ],
      "source": [
        "def binary_to_decimal(binary):\n",
        "    return int(binary, 2)\n",
        "binary_to_decimal('111')"
      ]
    },
    {
      "cell_type": "code",
      "execution_count": 97,
      "metadata": {
        "colab": {
          "base_uri": "https://localhost:8080/"
        },
        "id": "QeGBzhhvAlGw",
        "outputId": "09eba192-132d-41e4-86ec-b7b5a1d15372"
      },
      "outputs": [
        {
          "name": "stdout",
          "output_type": "stream",
          "text": [
            "11\n"
          ]
        }
      ],
      "source": [
        "def binary_to_decimal(binary_str):\n",
        "    decimal_value = 0\n",
        "    binary_str = binary_str[::-1]  # Reverse the string to process from right to left\n",
        "    for i in range(len(binary_str)):\n",
        "        if binary_str[i] == '1':  # Only consider bits that are '1'\n",
        "            decimal_value += 2**i  # Add the power of 2 corresponding to the position\n",
        "    return decimal_value\n",
        "\n",
        "binary_str = \"1011\"\n",
        "print(binary_to_decimal(binary_str))  "
      ]
    },
    {
      "cell_type": "code",
      "execution_count": null,
      "metadata": {
        "id": "w71Rhr8_Fdnc"
      },
      "outputs": [],
      "source": []
    }
  ],
  "metadata": {
    "colab": {
      "provenance": []
    },
    "kernelspec": {
      "display_name": "Python 3",
      "name": "python3"
    },
    "language_info": {
      "codemirror_mode": {
        "name": "ipython",
        "version": 3
      },
      "file_extension": ".py",
      "mimetype": "text/x-python",
      "name": "python",
      "nbconvert_exporter": "python",
      "pygments_lexer": "ipython3",
      "version": "3.12.5"
    }
  },
  "nbformat": 4,
  "nbformat_minor": 0
}
